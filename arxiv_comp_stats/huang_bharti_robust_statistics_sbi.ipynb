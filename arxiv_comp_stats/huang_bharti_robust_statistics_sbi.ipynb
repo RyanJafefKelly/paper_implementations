{
  "nbformat": 4,
  "nbformat_minor": 0,
  "metadata": {
    "colab": {
      "provenance": [],
      "authorship_tag": "ABX9TyNrlXmWqt0kj5yXJIDUscXO",
      "include_colab_link": true
    },
    "kernelspec": {
      "name": "python3",
      "display_name": "Python 3"
    },
    "language_info": {
      "name": "python"
    }
  },
  "cells": [
    {
      "cell_type": "markdown",
      "metadata": {
        "id": "view-in-github",
        "colab_type": "text"
      },
      "source": [
        "<a href=\"https://colab.research.google.com/github/RyanJafefKelly/paper_implementations/blob/main/arxiv_comp_stats/huang_bharti_robust_statistics_sbi.ipynb\" target=\"_parent\"><img src=\"https://colab.research.google.com/assets/colab-badge.svg\" alt=\"Open In Colab\"/></a>"
      ]
    },
    {
      "cell_type": "code",
      "execution_count": 1,
      "metadata": {
        "id": "MjBgBoA7epWp"
      },
      "outputs": [],
      "source": [
        "import jax.numpy as np"
      ]
    }
  ]
}